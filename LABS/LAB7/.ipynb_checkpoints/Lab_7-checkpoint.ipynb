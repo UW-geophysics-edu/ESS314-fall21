{
 "cells": [
  {
   "cell_type": "markdown",
   "id": "9411f8ba-c707-477b-b0e3-a87d137af9af",
   "metadata": {},
   "source": [
    "# **ESS314: LAB 7: Magnetics**\n",
    "\n",
    "**For this lab, you will need to submit this .ipynb file, as well as separate math from Question 3, and drawings or plots from Questions 6 and 9a.** *As usual, questions for submission are in italics.*\n"
   ]
  },
  {
   "cell_type": "markdown",
   "id": "5d9e9ee9-2fd8-461d-b75f-4293f3ceb75d",
   "metadata": {},
   "source": [
    "Today we will return to GRAVMAG and look at some magnetic data. The magnetic method is quite complicated, so first we will do a few exercises to improve our understanding of the Earth’s magnetic field."
   ]
  },
  {
   "cell_type": "markdown",
   "id": "d4773d05-aab6-4df1-9e21-fea82dc534c8",
   "metadata": {},
   "source": [
    "The intensity of the Earth’s magnetic field at some location on the Earth’s surface can be written as a vector $F_{E}$, defined by its inclination i (the angle the vector makes with a horizontal plane) and its declination d (the horizontal angle from geographic north). **Figure 1** below illustrates these concepts. If you find **Figure 1** a little confusing, then **Figure 2** below illustrates these concepts in a different way using a compass needle. Note that Z is positive down."
   ]
  },
  {
   "cell_type": "code",
   "execution_count": 12,
   "id": "8bca36c9-d0d4-420c-8cfe-1cecd858f6a0",
   "metadata": {},
   "outputs": [],
   "source": [
    "import numpy as np\n",
    "import matplotlib.pyplot as plt\n",
    "from IPython import display\n",
    "from base64 import b64decode"
   ]
  },
  {
   "cell_type": "markdown",
   "id": "9d39341e",
   "metadata": {},
   "source": [
    "![](Fig1.png)\n",
    " <center> **Figure 1.** Diagram illustrating vector FE and its constituent vectors, along with declination and inclination angles d and i, respectively."
   ]
  },
  {
   "cell_type": "markdown",
   "id": "d29f3419-0e86-4b5e-b2ae-dd993e88ed71",
   "metadata": {},
   "source": [
    "![](Fig2.png)\n",
    "**Figure 2.** Representation of vector FE and its constituent vectors, along with declination and inclination angles d and i, respectively, using a compass schematic."
   ]
  },
  {
   "cell_type": "markdown",
   "id": "be4107b5-dbe0-4ddd-bbc2-3281f0544416",
   "metadata": {},
   "source": [
    "The total magnetic field can be broken down into its horizontal $H_E$ and vertical $Z_E$ components and be represented as\n",
    "\n",
    "$$F_E = \\sqrt{ (H_E)^2 + (Z_E)^2  }.$$ <div style=\"text-align: right\"> (1) </div>\n",
    "    \n",
    "$H_E$ can be further resolved into northward and eastward components ($X_E$ and $Y_E$, respectively):\n",
    "\n",
    "$$H_E = \\sqrt{ (X_E)^2 + (Y_E)^2  }.$$ <div style=\"text-align: right\"> (2) </div>\n",
    "    \n",
    "Combining equations (1) and (2), one can represent the magnetic field using\n",
    "    \n",
    "$$F_E = \\sqrt{ (X_E)^2 + (Y_E)^2 + (Z_E)^2 }.$$ <div style=\"text-align: right\"> (3) </div>\n"
   ]
  },
  {
   "cell_type": "markdown",
   "id": "9b1f51ea-5a62-480b-a3c6-4e4076de5ad0",
   "metadata": {},
   "source": [
    "### **Question 1:** \n",
    "Use simple trigonometry to derive the following formulas. We will do the expression for $H_E$ together in lab. Use the previous cell to learn how to write equations in Markdown. Markdown follows the LateX conventions. Enter an equation within the ``$ $`` to enter the mathematical environment, and follow LateX guidelines for the notations (operators, greek letters, powers and indices, fractions, roots, sums and integrals, brackets, ...) (https://en.wikibooks.org/wiki/LaTeX/Mathematics)\n",
    "\n",
    ">a. *Express $H_E$ and $Z_E$ in terms of the angle of inclination and the total field magnitude.*"
   ]
  },
  {
   "cell_type": "markdown",
   "id": "8ff9ba59",
   "metadata": {},
   "source": []
  },
  {
   "cell_type": "markdown",
   "id": "4959acbe",
   "metadata": {},
   "source": [
    ">b. *Express $X_E$ and $Y_E$ in terms of the total field magnitude and the angles of inclination and\n",
    "declination.*"
   ]
  },
  {
   "cell_type": "markdown",
   "id": "efcacaa2",
   "metadata": {},
   "source": []
  },
  {
   "cell_type": "markdown",
   "id": "6e9242f1",
   "metadata": {},
   "source": [
    ">c. *Assume the magnetic field vector is (4, 1, 1). Calculate the inclination and declination\n",
    "using the formulas you derived above.*"
   ]
  },
  {
   "cell_type": "code",
   "execution_count": null,
   "id": "e8ad84be",
   "metadata": {},
   "outputs": [],
   "source": []
  },
  {
   "cell_type": "markdown",
   "id": "9f6106aa-715f-4a65-846a-ff309195ff36",
   "metadata": {},
   "source": [
    "If the magnetic field of the earth could be produced by a simple north-south dipole (**Figure 3**), then inclination would be 0° anywhere along the equator, 90° (down) at the north pole and -90° (up) at the south pole."
   ]
  },
  {
   "cell_type": "markdown",
   "id": "5931743f-595a-4da8-ac7f-da1f6ac2112f",
   "metadata": {},
   "source": [
    "![](Fig3.png)\n",
    "**Figure 3.** The magnetic field around a sphere produced by a dipole."
   ]
  },
  {
   "cell_type": "markdown",
   "id": "a5f641c6-3e4d-493c-8e61-4ddb37abe8bc",
   "metadata": {},
   "source": [
    "However, the Earth’s magnetic field is imperfect. The magnetic equator (where i = 0°) is\n",
    "irregular (**Figure 4**). Additionally, the inclination is ±90° at the north and south magnetic poles.\n",
    "This is why **magnetic north does not equal true north.** "
   ]
  },
  {
   "cell_type": "markdown",
   "id": "ae9b4479-5ac7-48c9-a97f-e1929395f33c",
   "metadata": {},
   "source": [
    "![](Fig4.png)\n",
    "**Figure 4.** Global magnetic inclination values. Source: https://www.ngdc.noaa.gov/geomag/WMM/"
   ]
  },
  {
   "cell_type": "markdown",
   "id": "fa4e7dd6-4a95-429e-8f39-6f7d237ee1d0",
   "metadata": {},
   "source": [
    "Therefore, while the Earth’s magnetic field is not perfect, it is close and is often approximated by a magnetic field produced by a dipole tilted 11.5° to the Earth’s axis of rotation. This reproduces 90% of the Earth’s magnetic field, and we can use this approximation for the vertical and horizontal components of the magnetic field at some point."
   ]
  },
  {
   "cell_type": "markdown",
   "id": "9ce8d28b-3123-4294-a4d8-d29e3ce4273b",
   "metadata": {},
   "source": [
    "### **Question 2:** \n",
    "> *In your own words, describe the distinctions between the geographic poles, the magnetic poles, and the geomagnetic poles.*"
   ]
  },
  {
   "cell_type": "markdown",
   "id": "61c1902e",
   "metadata": {},
   "source": []
  },
  {
   "cell_type": "markdown",
   "id": "95adba04-006d-4e3c-bcbd-b9ca0d4e38be",
   "metadata": {},
   "source": [
    "A magnetic field is a potential field. The potential $V$ for a monopole is expressed by\n",
    "\n",
    "\n",
    "\\begin{align}\n",
    "V = -\\int_\\infty^r \\frac{m}{r^2} dr, \\label{eq4}\\tag{4} \n",
    "\\end{align}\n",
    "    \n",
    "   \n",
    "where $m$ is the pole strength and $r$ is the distance from the pole.\n"
   ]
  },
  {
   "cell_type": "markdown",
   "id": "9aa3f430-7fc8-4898-b800-78aa84666a92",
   "metadata": {},
   "source": [
    "### **Question 3:** \n",
    "\n",
    ">*Solve the integral to get a simpler equation for potential. Show your work.*"
   ]
  },
  {
   "cell_type": "markdown",
   "id": "4773133b",
   "metadata": {},
   "source": []
  },
  {
   "cell_type": "markdown",
   "id": "77555046-47c4-4edd-890a-aa84c984051b",
   "metadata": {},
   "source": [
    "submit your math to canvas either integrated in the notebook text (following LateX/Markddown), or as a separate document / image"
   ]
  },
  {
   "cell_type": "markdown",
   "id": "c32e4601-29d2-405e-8a3d-bc7aa28bb8e4",
   "metadata": {},
   "source": [
    "Without going through extensive derivations, the magnetic potential at point $P$ due to a dipole is\n",
    "\n",
    "\\begin{align} \n",
    "V = \\frac{M\\cos\\theta}{r^2}, \\label{eq5}\\tag{4}\n",
    "\\end{align}\n"
   ]
  },
  {
   "cell_type": "markdown",
   "id": "72b8e8f1-1b5d-47b9-b573-745f5b37fa01",
   "metadata": {},
   "source": [
    "where $M$ is the magnetic moment, $\\theta$ is the angle from the dipole to point $P$ (90-latitude for a geocentric dipole), and $r$ is the distance between point $P$ and the dipole. By taking the negative derivatives of the potential in spherical coordinates, one could derive the following equations for the radial and tangential components of the magnetic field:\n",
    "\n",
    "\\begin{align}\n",
    "H_r &= -Z_E = \\frac{2M\\cos\\theta}{r^3}. \\label{eq6}\\tag{6}\\\\\n",
    "H_\\theta &= -X_E = \\frac{M\\sin\\theta}{r^3}.\\label{eq7}\\tag{7}\n",
    "\\end{align}"
   ]
  },
  {
   "cell_type": "markdown",
   "id": "4343fb27-cc20-4552-ac52-10c27097cf77",
   "metadata": {},
   "source": [
    "Because the Earth is spherical, the radial component $H_r$ is equivalent to the vertical field and the tangential component $H_\\theta$ is equivalent to the horizontal southward pointing field. The E-W component of a dipole field ($Y_E$) is zero. See **Figure 5** below for a visualization of this."
   ]
  },
  {
   "cell_type": "markdown",
   "id": "afbfe223-e249-4779-a4f4-8dea83dcbd40",
   "metadata": {},
   "source": [
    "![](Fig5.png)\n",
    "**Figure 5.** Some important features of the Earth’s magnetic field."
   ]
  },
  {
   "cell_type": "markdown",
   "id": "911ed0a8-39ea-4e3f-b70c-19985b4a3963",
   "metadata": {},
   "source": [
    "### **Question 4:** \n",
    "\n",
    "Assume a radius of 6371 km for the Earth and a magnetic moment of the imaginary dipole responsible for the majority of Earth’s field as 8 x 1025 emu.\n",
    "\n",
    ">a. *Estimate the horizontal $H_e$ and vertical $Z_e$ fields at the 2006 North magnetic pole in nanoTeslas (latitude 80°; Figure 6). Note that $\\theta$ is the colatitude (90 – latitude). The radius, $r$, must be expressed in centimeters. The answer you will get is expressed in oersteds. Multiply by 105 to get the answer in nanoTeslas (nT).*\n"
   ]
  },
  {
   "cell_type": "code",
   "execution_count": 4,
   "id": "d4e714ce-073e-4010-a6a9-f1fa057c3bc7",
   "metadata": {
    "tags": []
   },
   "outputs": [],
   "source": [
    "# calculate here USING CODE!!! SHOW YOUR WORK!"
   ]
  },
  {
   "cell_type": "markdown",
   "id": "eea736fb-11fe-4f09-8de6-5021065eff00",
   "metadata": {},
   "source": [
    ">b. *Calculate the total field strength in nanoteslas.*"
   ]
  },
  {
   "cell_type": "code",
   "execution_count": 5,
   "id": "5d38d094-4c05-47ab-a95b-efb9391182ba",
   "metadata": {},
   "outputs": [],
   "source": [
    "# calculate here USING CODE!!! SHOW YOUR WORK!"
   ]
  },
  {
   "cell_type": "markdown",
   "id": "e83f44f9-ca95-4844-82b8-a2443c68593b",
   "metadata": {},
   "source": [
    ">c. *How well does it approximate the actual field strength as shown in Figure 6 below?*"
   ]
  },
  {
   "cell_type": "markdown",
   "id": "250e76c4-d668-445a-a280-69929b257cd0",
   "metadata": {},
   "source": [
    "answer here"
   ]
  },
  {
   "cell_type": "markdown",
   "id": "a56df0fe-4a7c-46e0-a405-11045517fca0",
   "metadata": {},
   "source": [
    ">d. *What does the value in part c represent?*"
   ]
  },
  {
   "cell_type": "markdown",
   "id": "8a9407b8-ded8-4505-a7d4-0d54a3df66ba",
   "metadata": {},
   "source": [
    "answer here"
   ]
  },
  {
   "cell_type": "markdown",
   "id": "753e145b-1fc3-471a-80b9-aa2346bfb176",
   "metadata": {},
   "source": [
    "### **Question 5:** \n",
    ">*What is the ratio of the dipole total field strength at the equator to that at the pole?*"
   ]
  },
  {
   "cell_type": "markdown",
   "id": "957b42e6-3ff9-49b8-8094-da69e5eb0094",
   "metadata": {},
   "source": [
    "![](Fig6.png)\n",
    "**Figure 6.** Values of total intensity for the geomagnetic field (FE) in 2006 for a portion of the Western Hemisphere."
   ]
  },
  {
   "cell_type": "markdown",
   "id": "3f0a8ccf-22b6-40e9-8a5e-fbad6096f264",
   "metadata": {},
   "source": [
    "In a magnetic survey we look for perturbations between the observed magnetic field and a reference field. These perturbations are from smaller magnetic fields induced by geologic bodies.\n",
    "\n",
    "\n",
    "The magnetic field that we actually measure is the sum of Earth’s magnetic field at the point of study and the anomalous field produced by a geologic body or bodies. However, we are interested in the total field anomaly in the direction of Earth’s main field. This is referred to as $F_{AT}$. $F_{AT}$ depends on the vertical and horizontal components of the anomalous field ($Z_A$ and $H_A$, respectively) and the inclination *i*:\n",
    "\n",
    "\\begin{align}\n",
    "F_{AT} = Z_A\\sin{i} + H_A\\cos{i}.\\label{eq8}\\tag{8}\n",
    "\\end{align}"
   ]
  },
  {
   "cell_type": "markdown",
   "id": "fd52510a-09dc-4103-aae9-4a1a034a16a7",
   "metadata": {},
   "source": [
    "The next few questions are designed to help you gain some basic intuition on what the magnetic field induced in a simple geological body looks like."
   ]
  },
  {
   "cell_type": "markdown",
   "id": "47729442-3aa4-497e-89ec-3474e503bb22",
   "metadata": {},
   "source": [
    "### **Question 6:** \n",
    "At each location indicated below, determine whether the vertical or horizontal components of the anomalous magnetic field will be more important. Illustrate your answers using vectors.\n",
    "\n",
    ">a. *Near the poles*"
   ]
  },
  {
   "cell_type": "markdown",
   "id": "6c7841f5",
   "metadata": {},
   "source": [
    "answer here"
   ]
  },
  {
   "cell_type": "markdown",
   "id": "0e6d1fbc",
   "metadata": {},
   "source": [
    ">b. *Near the equator*"
   ]
  },
  {
   "cell_type": "markdown",
   "id": "146ac9b2",
   "metadata": {},
   "source": [
    "answer here"
   ]
  },
  {
   "cell_type": "markdown",
   "id": "d25e1f15-a68f-44ca-bd96-75016bf4c203",
   "metadata": {},
   "source": [
    "> submit a drawing to Canvas and/or import here. Give a 1-2 sentence explanation for each."
   ]
  },
  {
   "cell_type": "markdown",
   "id": "4191e72a-57f3-4a65-b2f2-ae6da773b4cf",
   "metadata": {},
   "source": [
    "You just proved that the component (vertical or horizontal) that affects the total induced field the most depends on latitude. Latitude also affects the orientation of Earth’s magnetic field, which induces the magnetic field in the geologic body. This gets confusing, because as you change latitude, not only are you seeing different contributions from the horizontal and vertical field in the total field, but you are also seeing changes in the horizontal and vertical fields themselves. **YIKES!**\n",
    "\n",
    "## Buried Spherical Body"
   ]
  },
  {
   "cell_type": "code",
   "execution_count": 40,
   "id": "965e26d2-a3cd-4d86-8c04-2f9c0feb5cce",
   "metadata": {},
   "outputs": [],
   "source": [
    "# below we define a function that calculates the anomaly based on a buried magnetic sphere\n",
    "# function takes the inputs z, R, k, x, inc\n",
    "# function outputs the values of Z_a, H_a, and F_at\n",
    "\n",
    "# z is the depth of the sphere in meters\n",
    "# R is the radius of the sphere in meters\n",
    "# k is the magnetic susceptibility in cgs emu (cm^(1/2)/s)\n",
    "# x is the position on the surface in meters (x=0 is above center of sphere)\n",
    "# inc is the inclination in degrees\n",
    "\n",
    "# do not alter this part since this is where we define it\n",
    "# skip ahead to the next cell to call the function\n",
    "\n",
    "def mag_sphere(z,R,k,x,inc):\n",
    "    # changes inclination if 0\n",
    "    if inc == 0: # in DEGREES - changed to radians in script\n",
    "        inc = 1e-10\n",
    "    incr = np.deg2rad(inc) # convert degres to radian\n",
    "    # calculate magnetic field strength\n",
    "    theta = np.arctan(np.tan(incr)/2) #inclination to colatitude - this is in radians now\n",
    "    eR = 6.4e8\n",
    "    M = 8e25\n",
    "    Z_e = ((2*M*np.cos(theta))/(eR**3))*(10**5)\n",
    "    H_e = ((M*np.sin(theta))/(eR**3))*(10**5)\n",
    "    F_e = np.sqrt(Z_e**2+H_e**2)\n",
    "    \n",
    "    Z_a = ((((4/3)*np.pi*R**3*k*F_e)*np.sin(incr))/(x**2+z**2)**(3/2))*(((3*z**2)/(x**2+z**2))-((3*x*z/np.tan(incr))/(x**2+z**2))-1);\n",
    "    H_a = ((((4/3)*np.pi*R**3*k*F_e)*np.cos(incr))/(x**2+z**2)**(3/2))*(((3*z**2)/(x**2+z**2))-((3*x*z*np.tan(incr))/(x**2+z**2))-1);\n",
    "    F_a = Z_a*np.sin(incr)+H_a*np.cos(incr)\n",
    "    \n",
    "    fig = plt.plot(x, Z_a, 'b:', label='Vertical')\n",
    "    fig = plt.plot(x, H_a, 'r:', label='Horizontal')\n",
    "    fig = plt.plot(x, F_a, 'g-', label='Total')\n",
    "    plt.xlabel('Position (x)')\n",
    "    plt.ylabel('Magnetic Field Anomaly (nT)')\n",
    "    plt.legend()\n",
    "    plt.show()"
   ]
  },
  {
   "cell_type": "markdown",
   "id": "905c84a9",
   "metadata": {},
   "source": [
    "Now we will use the function mag_sphere to calculate, and plot the magnetif field anomaly components and total force."
   ]
  },
  {
   "cell_type": "code",
   "execution_count": 45,
   "id": "bee038f4-7a81-41a6-ade2-b89488c5180f",
   "metadata": {},
   "outputs": [],
   "source": [
    "# input parameters\n",
    "z = 5 # depth from the spherical anomaly in meters\n",
    "R = 1 # radius of the spherical anomaly in meters\n",
    "k = 0.005 # magnetic susceptibility in cgs emu (cm^(1/2)/s)\n",
    "x = np.linspace(-50,50,101) # position on the surface in meters (x=0 is above center of sphere)\n",
    "inc = 120 #degrees # inclination in degrees\n"
   ]
  },
  {
   "cell_type": "code",
   "execution_count": 46,
   "id": "e285bad0",
   "metadata": {},
   "outputs": [
    {
     "data": {
      "image/png": "[encoded data removed]",
      "text/plain": [
       "<Figure size 432x288 with 1 Axes>"
      ]
     },
     "metadata": {
      "needs_background": "light"
     },
     "output_type": "display_data"
    }
   ],
   "source": [
    "# calling the function\n",
    "mag_sphere(z,R,k,x,inc)"
   ]
  },
  {
   "cell_type": "markdown",
   "id": "f8cd1213-bfc3-4e00-93b0-a8ce315c22ba",
   "metadata": {},
   "source": [
    "### **Question 7:** \n",
    "\n",
    "Use the mag_sphere function to show the horizontal, vertical, and total field curves for each of the following inclinations. For each plot, write a 1-2 sentence explanation describing the information shown in each plot and what it means for the magnetic anomalies you would see at those places on Earth's surface.\n",
    "\n",
    ">a. *90° (north pole)*\n"
   ]
  },
  {
   "cell_type": "code",
   "execution_count": 9,
   "id": "c06cce47",
   "metadata": {},
   "outputs": [],
   "source": [
    "# answer here"
   ]
  },
  {
   "cell_type": "markdown",
   "id": "913daf2e-481b-4c8b-926e-cf0cb881ff58",
   "metadata": {},
   "source": [
    ">b. *0° (Equator)*"
   ]
  },
  {
   "cell_type": "code",
   "execution_count": 10,
   "id": "6cebf654",
   "metadata": {},
   "outputs": [],
   "source": [
    "# answer here"
   ]
  },
  {
   "cell_type": "markdown",
   "id": "17c2e298-490f-44db-b821-d3aa83ec94d5",
   "metadata": {},
   "source": [
    ">c. *45° (Salem, OR)*"
   ]
  },
  {
   "cell_type": "code",
   "execution_count": 11,
   "id": "770d6825",
   "metadata": {},
   "outputs": [],
   "source": [
    "# answer here"
   ]
  },
  {
   "cell_type": "markdown",
   "id": "0cb81236-e1ba-4c0b-afd3-fb0fda972d7a",
   "metadata": {},
   "source": [
    "## Buried Rectangular Body \n",
    "\n",
    "Now, open GRAVMAG.\n",
    "1. Make sure the units are meters and cgs.\n",
    "\n",
    "2. It will default to gravity, but we want to change this. Go to **View**, uncheck Gravity and check Induced Magnetics.\n",
    "\n",
    "3. Add a body.\n",
    "\n",
    "4. From the **Window** menu, open the Section.\n",
    "\n",
    "5. Change your body so that it is a small rectangle in the middle.\n",
    "> a. You can do this either by changing the vertices by typing in the **Model Table** or\n",
    "by clicking and dragging them in the **Section** window.\n",
    "\n",
    "6. At the top of the **Model Table** you can enter **Latitude** and the **Profile Azimuth**.\n",
    "\n",
    "> a. The **Profile Azimuth** is the azimuth (in degrees from North) of your magnetic\n",
    "line. If your magnetic line trends North/South, this will be 0. If your magnetic\n",
    "line trends East/West, this will be 90.\n",
    "\n",
    "> b. For now, change the profile azimuth to 0 for a North/South line.\n",
    "\n",
    "7. By default, GRAVMAG plots the total field values, but you can change the plot to look at the horizontal or vertical components.\n",
    "\n",
    "> a. Open the **Magnetic Data** window.\n",
    "\n",
    "> b. Use the drop-down menu on the data table to change between total, horizontal,\n",
    "or vertical components.\n",
    "\n",
    "> c. Play around with the latitude a little bit. You will see that the results are similar\n",
    "to those of a buried sphere, which we already have a basic understanding of\n",
    "from the exercise above."
   ]
  },
  {
   "cell_type": "markdown",
   "id": "ead586fc-d46f-4ba0-9c2c-9e6a57f1fdff",
   "metadata": {},
   "source": [
    "### **Question 8:**\n",
    "Set the latitude to 90° (North pole).\n",
    ">a. Move the rectangle deeper into the subsurface. *What does this do to the curve?*\n",
    "\n",
    ">b. Increase the susceptibility. *What does this do to the total field?*"
   ]
  },
  {
   "cell_type": "markdown",
   "id": "57930fc3-21dd-4c08-8bf7-90f6bab25ab2",
   "metadata": {},
   "source": [
    "Despite the added complication of the latitude dependence of magnetic data, you can see that manipulating a simple rectangular body in the subsurface affects magnetic measurements similarly to how it affects gravity measurements. This also means that magnetic surveys have the same problem as gravity surveys: there are multiple subsurface models that can fit the same data set, the inverse problem is not unique. Therefore, the effectiveness of a magnetic study depends on whether there is previous geologic knowledge of the area.\n",
    "\n",
    "## Real Buried Body: Magnetic Survey\n",
    "Okay, lets finally get to an example. You are in Arizona (Latitude = 34°N) at an archeological site and are looking for old buried walls. Your colleagues already found one wall, composed of basalt (susceptibility = 0.006 emu). Now you are conducting a magnetic survey to find more walls. You take 101 measurements in a North/South trending line. The results can be found in ArchealogicalData.txt. Load these results into GRAVMAG."
   ]
  },
  {
   "cell_type": "markdown",
   "id": "6cb5f122-6a30-4a28-8418-a4518b521dd1",
   "metadata": {},
   "source": [
    "### **Question 9:** \n",
    "\n",
    "Create a subsurface model that fits the magnetic data.\n",
    ">a. *Take a screenshot of the shallow subsurface configuration. Submit to Canvas and import here.*\n"
   ]
  },
  {
   "cell_type": "markdown",
   "id": "b025b20d-5ab8-4823-94ce-96be54886651",
   "metadata": {},
   "source": [
    "import here"
   ]
  },
  {
   "cell_type": "markdown",
   "id": "13d3b3f9-f66c-4015-bb0c-c7e845f6964d",
   "metadata": {},
   "source": [
    ">b. *Does this single survey give you any information about the direction the walls are\n",
    "extending? If not, how could you figure this out?*"
   ]
  },
  {
   "cell_type": "markdown",
   "id": "11a52829-1242-42a5-aa56-f336c70a8447",
   "metadata": {},
   "source": [
    "answer here"
   ]
  },
  {
   "cell_type": "markdown",
   "id": "fc6949a0-cd3f-486e-83ee-b55a48ce8dd8",
   "metadata": {},
   "source": [
    "### **Question 10:** \n",
    "\n",
    "> You performed both an induced magnetic survey and a gravity survey looking for\n",
    "features in the shallow subsurface. When you look at your data, the induced magnetism curve is completely flat, but the gravity survey reveals a large negative anomaly. *What could this feature be? Why is there no induced magnetics?*"
   ]
  },
  {
   "cell_type": "markdown",
   "id": "cd81960b-5dd8-4e25-8dd3-20d27bac30dc",
   "metadata": {},
   "source": [
    "answer here"
   ]
  }
 ],
 "metadata": {
  "kernelspec": {
   "display_name": "Python 3 (ipykernel)",
   "language": "python",
   "name": "python3"
  },
  "language_info": {
   "codemirror_mode": {
    "name": "ipython",
    "version": 3
   },
   "file_extension": ".py",
   "mimetype": "text/x-python",
   "name": "python",
   "nbconvert_exporter": "python",
   "pygments_lexer": "ipython3",
   "version": "3.8.12"
  }
 },
 "nbformat": 4,
 "nbformat_minor": 5
}
