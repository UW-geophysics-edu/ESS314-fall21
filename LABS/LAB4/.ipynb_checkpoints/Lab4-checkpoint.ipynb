{
 "cells": [
  {
   "cell_type": "markdown",
   "metadata": {
    "id": "Wl1AeGP5iCxR"
   },
   "source": [
    "# **ESS314: LAB 4: Reflection**\n",
    "\n",
    "**For this lab, you will need to submit this .ipynb file, as well as separate plots or drawings from Questions 2a, 4, and 9**\n",
    "\n",
    "We will also make use of the program REFLECT to analyze simple reflection data. \n",
    "\n",
    "To **add your figures in the notebook**, you can save the figure as a \"plot1.png\" or \"plot1.jpeg\" an insert it in a \"Markdown\" cell (basically text) with the following command:\n",
    "\n",
    "`` ![](plot1.png) ``\n",
    "Write text below as a caption."
   ]
  },
  {
   "cell_type": "markdown",
   "metadata": {
    "id": "NWN3fYlOirDa"
   },
   "source": [
    " ### **Plotting travel-time curves from reflected waves in Python**"
   ]
  },
  {
   "cell_type": "markdown",
   "metadata": {
    "id": "Mjlg9mh6jx63"
   },
   "source": [
    "Imagine a source 10 m from the first receiver (i.e., geophone) in a 10-geophone line.\n",
    "The spacing between geophones is 10 m. We also know that the thickness of the layer\n",
    "closest to the surface is 20 m. The velocity of layer 1 is 2000 m/s and the velocity of\n",
    "layer 2 is 4000 m/s.\n",
    "\n",
    "![](source_receiver_geometry.png)"
   ]
  },
  {
   "cell_type": "markdown",
   "metadata": {
    "id": "OUnXlbIqj9LN"
   },
   "source": [
    "### **Question 1:**\n",
    "> a. *Notice that this is the same subsurface configuration as in the refraction lab. Add the **time-distance curve for the reflected wave to your plot from Lab 3, question 1b** – this should only require a line or two added to your previous code. Make sure to label axes and add a legend.*"
   ]
  },
  {
   "cell_type": "code",
   "execution_count": 1,
   "metadata": {
    "id": "t8P-N3Guk8yQ"
   },
   "outputs": [],
   "source": [
    "# Answer here\n",
    "# DO NOT USE A FOR LOOP! "
   ]
  },
  {
   "cell_type": "markdown",
   "metadata": {
    "id": "NCHc5lN0k9W-"
   },
   "source": [
    "> b. *Make the geophone spacing 20 m instead of 10 m, copy  your code, and rerun. Make sure you include another plot.*"
   ]
  },
  {
   "cell_type": "code",
   "execution_count": 2,
   "metadata": {
    "id": "2yxjhFFWlQgK"
   },
   "outputs": [],
   "source": [
    "# Answer here"
   ]
  },
  {
   "cell_type": "markdown",
   "metadata": {
    "id": "VWqDl3wklRyx"
   },
   "source": [
    "Notice that as distance from the shot increases, the arrival times of the direct wave and the reflected wave get closer together. Think about this in terms of a triangle formed by the half of the surface distance from the shot to the geophone (x), the thickness of the layer (h), and the ray path to the boundary layer (r). The layer thickness is constant but increasing the value of x also changes the length of r and the angle of incidence."
   ]
  },
  {
   "cell_type": "markdown",
   "metadata": {
    "id": "TtHPMUGNl1Q9"
   },
   "source": [
    "> c. *Explain why the arrival times of the reflected wave approaches that of the direct wave using the diagram above as a template. Clearly reference the ray paths of both direct and reflected waves from the diagram above in your explanation.*"
   ]
  },
  {
   "cell_type": "markdown",
   "metadata": {
    "id": "wc8SXrXMl8XW"
   },
   "source": [
    "answer here"
   ]
  },
  {
   "cell_type": "markdown",
   "metadata": {
    "id": "k0ZoaLJVl9Jc"
   },
   "source": [
    "> d. *Explain why travel times of the critically refracted wave are similar to the reflected wave on geophones closer to the shot, but arrive earlier than reflected waves for geophones further from the shot. Again, explain this\n",
    "with clear references to your two plots in a paragraph similar to the one above. Think about the relative distances each ray travels in each material.*"
   ]
  },
  {
   "cell_type": "markdown",
   "metadata": {
    "id": "_olEO8BQpWOL"
   },
   "source": [
    "answer here"
   ]
  },
  {
   "cell_type": "markdown",
   "metadata": {
    "id": "Q3ts8J9EmLa9"
   },
   "source": [
    "## **Use REFLECT to calculate time-distance curves**\n",
    "\n",
    "Open REFLECT. In the **Units** menu, make sure **m**, **ms**, and **m/s** are selected. REFLECT is somewhat slower than REFRACT, so be patient. The Model Table window in REFLECT is similar to that in REFRACT.\n",
    "\n",
    "\n",
    "  >a. Create a 3-layer model with layer-thicknesses of 50 m.\n",
    "\n",
    "  >b. Let V1 = 1000 m/s, V2 = 2000 m/s, and V3 = 4000 m/s.\n",
    "\n",
    " > c. Use 50 geophones with 10 meter spacing and shot offset of 10 meters.\n",
    "\n",
    "  >d. Click **Update Times and Plots** and open the plot window. \n",
    "\n",
    "  >e. Notice there is nothing there! REFLECT makes you select the types of arrivals you want to see.\n",
    "\n",
    " > f. At the bottom of the **Model Table** window there are some boxes you can check to include different arrivals on your plot. Check the **Direct Wave** and **Reflections** boxes and update the plot. Each squiggle represents the arrival of a direct or reflected wave on one of the geophones.\n",
    "\n",
    " > g. If your plot does not look like the one below, check the bottom right of the plot. The number in the text box indicates the maximum distance from the shot shown in the plot. Click Show **All Arrivals** to show all geophones included in your model.\n",
    " \n",
    " ![](plot_arrivals.png)"
   ]
  },
  {
   "cell_type": "markdown",
   "metadata": {
    "id": "JyjrRRtGm5lp"
   },
   "source": [
    "## **Question 2:**\n",
    "\n",
    "> a. *Take a screenshot of your plot to include with your submission and disscuss below the direct and reflected waves. Indicate the layer off which each reflected wave bounces.*"
   ]
  },
  {
   "cell_type": "markdown",
   "metadata": {
    "id": "qCuispnQpcTN"
   },
   "source": [
    "answer here"
   ]
  },
  {
   "cell_type": "markdown",
   "metadata": {
    "id": "9zncZBJFpcQO"
   },
   "source": [
    "> b. *On geophones far away from the shot, why does the second reflected wave arrive before the direct wave and the wave reflected off the first layer?*"
   ]
  },
  {
   "cell_type": "markdown",
   "metadata": {
    "id": "AIh9F2FvpcKZ"
   },
   "source": [
    "answer here"
   ]
  },
  {
   "cell_type": "markdown",
   "metadata": {
    "id": "b63fnzqbpcFT"
   },
   "source": [
    "> c. *Decrease the thickness of layer 1 to 20 m and update the plot. How does this affect the arrival times of the first reflected wave? Why?*"
   ]
  },
  {
   "cell_type": "markdown",
   "metadata": {
    "id": "qb66fs1gqaSK"
   },
   "source": [
    "answer here"
   ]
  },
  {
   "cell_type": "markdown",
   "metadata": {
    "id": "UfhrIAqlqcJr"
   },
   "source": [
    "> d. *Change the thickness of the first layer back to 50 m and decrease the thickness of the middle layer to 10 m. How does this affect the arrivals of the second reflected wave? Why?*"
   ]
  },
  {
   "cell_type": "markdown",
   "metadata": {
    "id": "p6xPVuTdqbuc"
   },
   "source": [
    "answer here"
   ]
  },
  {
   "cell_type": "markdown",
   "metadata": {
    "id": "asZqRbXuqkqa"
   },
   "source": [
    "### **Question 3:**\n",
    "The basic reflection travel-time equation for a single layer is similar to the equation of a hyperbola:\n",
    "\n",
    "$ 𝑡 = \\dfrac{\\sqrt{x^2+4h_1^2}}{V_1}$ \n",
    "\n",
    "\n",
    "To simplify analysis, square both sides and write it in the form of an equation for a straight line. This is called the $x^2-t^2$ method. We will use this method to analyze some field data later in this lab.\n",
    "\n",
    "\n",
    "> *Rewrite the reflection travel-time equation in linear form $y=mx +b$ by squaring both sides, expressing $𝑡^2$ as a linear function of $𝑥^2$. Don't worry about rendering it like the equation above, it is fine to use numpy (unless you want to try!).*"
   ]
  },
  {
   "cell_type": "markdown",
   "metadata": {
    "id": "zcVFhMg9qkiW"
   },
   "source": [
    "answer here"
   ]
  },
  {
   "cell_type": "markdown",
   "metadata": {
    "id": "WMcyx7KKqkZ5"
   },
   "source": [
    "## **Question 4:**\n",
    "\n",
    "Calculating the travel time of waves reflected at deeper layers is complicated because those waves are refracted at shallower boundaries. One way to deal with this complication is Green’s Method, which assumes straight-line paths through all boundaries and solves for velocities and thicknesses. This method is illustrated in the figure below.\n",
    "\n",
    "\n",
    "![](funny_rays.png)\n",
    "> *Draw the actual ray paths of the reflected waves on the diagram for each ray path. You can draw this on a piece of paper or by editing a screenshot and submit this to Canvas with your assignment. Use this to explain below why Green’s Method may not be the most accurate approximation.*"
   ]
  },
  {
   "cell_type": "markdown",
   "metadata": {
    "id": "46PXcpVoamOJ"
   },
   "source": [
    "answer here"
   ]
  },
  {
   "cell_type": "markdown",
   "metadata": {
    "id": "a-aJKGreqj9E"
   },
   "source": [
    "Another way to solve velocities and thicknesses is to use the Dix equation, which uses\n",
    "the root-mean-square velocity ($V_{rms}$). This was covered in lecture and is the method the\n",
    "program REFLECT uses."
   ]
  },
  {
   "cell_type": "markdown",
   "metadata": {
    "id": "XUzr8SUntK_L"
   },
   "source": [
    "# **Modeling the Cascadia subduction zone**\n",
    "\n",
    "The Cascadia Subduction Zone (CSZ), where the Juan De Fuca plate dives beneath the North American plate, runs from northern California to Vancouver Island in Canada. This subduction zone is capable of generating large (>M9.0) earthquakes. Since these earthquakes pose a serious threat to cities and towns along the West Coast, we want to learn as much as we can about the CSZ. Shallower earthquakes can cause much more damage than a deep earthquake of the same  size, so determining the depth of the plate interface, where\n",
    "megathrust earthquakes occur, is important. In an attempt to figure out the depth of the plate interface, a set of 50 geophones spaced 1000 meters apart was set up on the Olympic Peninsula in an east-west trending line. A seismic reflection study recorded P-wave arrivals; the data is in\n",
    "the SubductionData.txt file on the course github page."
   ]
  },
  {
   "cell_type": "markdown",
   "metadata": {
    "id": "N8tKvxaJYAGQ"
   },
   "source": [
    "1. In REFLECT, change your units from milliseconds to seconds.\n",
    "2. Download SubductionData.txt from Canvas and open it in REFLECT. When asked, make\n",
    "the model consistent with the data for both geophones and layers.\n",
    "3. In the Data window, the arrival times are shown in the **Pick Refl**. (picked reflections)\n",
    "columns, with one column for each reflected wave."
   ]
  },
  {
   "cell_type": "markdown",
   "metadata": {
    "id": "keO4MS3tYDWx"
   },
   "source": [
    "## **Question 5:**\n",
    "> *How many layers does this reflection study show, judging by the number of reflections?*"
   ]
  },
  {
   "cell_type": "markdown",
   "metadata": {
    "id": "G7VWov5LbgXL"
   },
   "source": [
    "answer here"
   ]
  },
  {
   "cell_type": "markdown",
   "metadata": {
    "id": "pO48YPIZYDTZ"
   },
   "source": [
    "4. Open the **Plot** window. The reflection data is shown as little red triangles. If you don’t see any red triangles, increase the maximum time to 30 s in the lower right corner of the plot window.\n",
    "5. To analyze these data, you will need to open **Fit** under **Window**. This plots the data on an $x^2-t^2$ plot.\n",
    "6. Click **Invert Picks** to fit straight lines to your data\n",
    "7. Return to the **Model** window and click **Model from Picks**. This uses the Dix method to solve for the velocities and heights of each of the layers.\n",
    "8. Click **Update Times and Plots** then switch to the **Plot** window to see how well the model fits the data.\n",
    "9. You can adjust the picks by playing with the lines in the Fit window. When you’re doing this, think about this in terms of the equation you ended up with for Question 3. For\n",
    "example, if you change one variable of the equation, how much do the other variables change to keep time the same?"
   ]
  },
  {
   "cell_type": "markdown",
   "metadata": {
    "id": "JwpSxljSZxcl"
   },
   "source": [
    "## **Question 6:**\n",
    "\n",
    "> a. *Based on the equation from Question 3, if you move the line for layer 1 up without changing the slope, do you expect the thickness or velocity of your model to change? Why?*"
   ]
  },
  {
   "cell_type": "markdown",
   "metadata": {
    "id": "oB4vlBYXZxZ0"
   },
   "source": [
    "asnwer here"
   ]
  },
  {
   "cell_type": "markdown",
   "metadata": {
    "id": "DjPP10kuZxSV"
   },
   "source": [
    " In the **Fit** window, click **Invert Picks**. Move the line from layer 1 up without changing its slope or horizontal position (You don’t need to be perfect on the horizontal part; just do your best to avoid moving it side to side.). In the **Model** window, click **Model from Picks** then **Update Times and Plots**.\n",
    "\n",
    " > b. *Describe and explain how the thickness and velocities changed, if at all. Explain any differences from your prediction.*"
   ]
  },
  {
   "cell_type": "markdown",
   "metadata": {
    "id": "DTp0MF_zZxXQ"
   },
   "source": [
    "answer here"
   ]
  },
  {
   "cell_type": "markdown",
   "metadata": {
    "id": "pTGNYcW0aOeK"
   },
   "source": [
    "## **Question 7**:\n",
    "\n",
    "> a. *Based on the equation from Question 3, describe how you think changing the slope of the line for layer 1 will affect the thickness or velocity of the layer.*"
   ]
  },
  {
   "cell_type": "markdown",
   "metadata": {
    "id": "ZDP_haF0aObD"
   },
   "source": [
    "answer here"
   ]
  },
  {
   "cell_type": "markdown",
   "metadata": {
    "id": "m4ywqn_3aOX1"
   },
   "source": [
    " In the **Fit** window, change the slope of the line for layer 1 without moving the line horizontally or changing the y-intercept. This can be done by adjusting the height of the black box on the right end of the line. In the **Model** window, click **Model from Picks** then **Update Times and Plots**. \n",
    "\n",
    "\n",
    "> b. *Describe how and why the thicknesses or velocities increased or decreased, and explain any deviation from your predictions based on the\n",
    "equation.*"
   ]
  },
  {
   "cell_type": "markdown",
   "metadata": {
    "id": "shbQMZPpaOTc"
   },
   "source": [
    "answer here"
   ]
  },
  {
   "cell_type": "markdown",
   "metadata": {
    "id": "ldXjz6JHaONo"
   },
   "source": [
    "## **Question 8:**\n",
    "\n",
    "> *Change the line for layer 3 in various ways. Note that changing the line for the first layer changes the whole model, but that is not the case for the third layer. Explain why this is the case.*"
   ]
  },
  {
   "cell_type": "markdown",
   "metadata": {
    "id": "jmSzPysCatYE"
   },
   "source": [
    "answer here:"
   ]
  },
  {
   "cell_type": "markdown",
   "metadata": {
    "id": "hyKEpgR0atU4"
   },
   "source": [
    "Go back to the **Fit** window and click **Invert Picks** again, then in the **Model Table** window, **Model from Picks** and **Update Times** and **Plots**. Verify by eye that the modeled arrivals match the measured arrivals."
   ]
  },
  {
   "cell_type": "markdown",
   "metadata": {
    "id": "V3VYZxNaatR-"
   },
   "source": [
    "## **Question 9:**\n",
    "\n",
    "\n",
    "> a. *Open the **Section** window and take a screen shot to include with your submission. Discuss the section below, indicating where you think the plate interface is.*"
   ]
  },
  {
   "cell_type": "markdown",
   "metadata": {
    "id": "Q9wQq5BbeaFU"
   },
   "source": [
    "answer here"
   ]
  },
  {
   "cell_type": "markdown",
   "metadata": {
    "id": "Pl2JcR_yatPb"
   },
   "source": [
    "> b. *Write a paragraph about the validity of this section, using the points below to develop your discussion and referencing your diagram and its labels.*\n",
    "\n"
   ]
  },
  {
   "cell_type": "markdown",
   "metadata": {
    "id": "cyBcB0I6e8hn"
   },
   "source": [
    "answer here"
   ]
  },
  {
   "cell_type": "markdown",
   "metadata": {
    "id": "aTN2TjcQe3cG"
   },
   "source": [
    "  >i. Keep in mind that both the upper plate and the lower plate both have a crust and subsequent mantle beneath, so think about which layer is which using the typical mantle P-wave velocity around 8 km/s.\n",
    "\n",
    " > ii. What, if anything, can you say about the velocity of the deepest layer based on reflection data alone?\n",
    "\n",
    " > iii. Use the table below to determine what types of rocks make up the crusts of the upper and lower plates. Make sure your interpretation makes sense given that crust of the lower plate is oceanic and the crust of the upper plate is continental.\n",
    "\n",
    ">  iv. Notice that the layers in the model you produced are horizontal. Does this make sense for a subduction zone? If not, what other type of study would you perform to learn more about the geometry of the different layers? Think about previous labs you have done and how you have looked at dip using this type of data before."
   ]
  },
  {
   "cell_type": "markdown",
   "metadata": {
    "id": "9jYrc6JkatMP"
   },
   "source": [
    "| Rock Type      | P wave velocity (m/s) |\n",
    "| ----------- ----| ----------- |\n",
    "| Sandstone and shale | 2000-4500  |\n",
    "| Limestone | 2000-6000        |\n",
    "| Granite   | 5000-6000     |\n",
    "| Basalt    | 5400-6400      |"
   ]
  }
 ],
 "metadata": {
  "colab": {
   "collapsed_sections": [],
   "name": "Lab4.ipynb",
   "provenance": []
  },
  "kernelspec": {
   "display_name": "Python 3 (ipykernel)",
   "language": "python",
   "name": "python3"
  },
  "language_info": {
   "codemirror_mode": {
    "name": "ipython",
    "version": 3
   },
   "file_extension": ".py",
   "mimetype": "text/x-python",
   "name": "python",
   "nbconvert_exporter": "python",
   "pygments_lexer": "ipython3",
   "version": "3.8.12"
  }
 },
 "nbformat": 4,
 "nbformat_minor": 1
}
