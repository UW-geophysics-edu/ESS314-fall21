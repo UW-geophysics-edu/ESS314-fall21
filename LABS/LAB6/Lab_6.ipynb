{
 "cells": [
  {
   "cell_type": "markdown",
   "metadata": {
    "id": "PakrBEd-D01j"
   },
   "source": [
    "# **ESS314: LAB 6: Gravity**\n",
    "\n",
    "**For this lab, you will need to submit this .ipynb file, as well as separate plots or drawings from Questions 7, two from 9a, two from 9b, and 11.** *As usual, questions for submission are in italics.*\n",
    "\n",
    "We will also make use of the program GRAVMAG to analyze gravity data."
   ]
  },
  {
   "cell_type": "markdown",
   "metadata": {
    "id": "lfWTyz9PEph9"
   },
   "source": [
    "#### **Learning to use GRAVMAG**\n",
    "In GRAVMAG you can create polygon-shaped geologic bodies with some density contrast. We use density contrast, or the density of the body minus the density of the surrounding rock, because we attempt to explain Bouguer anomalies"
   ]
  },
  {
   "cell_type": "markdown",
   "metadata": {
    "id": "RNIb2hQHE7EK"
   },
   "source": [
    "### **Question 1:**\n",
    "\n",
    ">*What does the Bouguer correction correct for?*\n",
    "\n",
    "\n"
   ]
  },
  {
   "cell_type": "markdown",
   "metadata": {
    "id": "DMoncaB0E-TB"
   },
   "source": [
    "answer here"
   ]
  },
  {
   "cell_type": "markdown",
   "metadata": {
    "id": "lxZrjEYwE9jS"
   },
   "source": [
    "### **Question 2:** \n",
    "\n",
    ">The density of the surrounding rock is 2.6 g/cm3 and the density of a body of interest is 2.8 g/cm3. *What is the density contrast?* (Make sure you get the sign right.)"
   ]
  },
  {
   "cell_type": "markdown",
   "metadata": {
    "id": "FhjgySutFA0i"
   },
   "source": [
    "answer here"
   ]
  },
  {
   "cell_type": "markdown",
   "metadata": {
    "id": "ofQG4tPjHz-K"
   },
   "source": [
    "**All right, now we are ready to use GRAVMAG.**\n",
    "1. Open GRAVMAG and set your units to m and kg/m3.\n",
    "2. Like REFLECT and REFRACT, when you open GRAVMAG a “Model” table pops up. But in\n",
    "GRAVMAG, instead of adding layers you add bodies to the subsurface.\n",
    "\n",
    ">a. Add a body by clicking Add Body.\n",
    "\n",
    ">b. To see what you added, select **Section** from the **Window** menu. You will see a cross section of the subsurface configuration.\n",
    "\n",
    ">c. From the **Window** menu, select Gravity Data. Two windows will open:\n",
    ">>i. A plot of the calculated gravity anomaly will pop up in a panel above the cross section. Each star on the plot represents an observation.\n",
    "\n",
    ">>ii. The Data window should also pop up. You can adjust the number of\n",
    "measurements and the spacing between measurements in this window.\n",
    "If you want to increase the number of measurements and keep equal\n",
    "spacing, first set Number of Measurements to 1, and then tab out of the\n",
    "edit field (or click elsewhere in the window). Next, change the number of\n",
    "measurements to the desired value and again change focus to something\n",
    "else in the window to show the data for the number of measurements\n",
    "you select.\n",
    "\n",
    "3. In the Cross section window, change the shape of the body.\n",
    "\n",
    ">a. Click on the body, and note the small black squares at each vertex.\n",
    "\n",
    ">b. Click and drag the vertices to change the size and shape of the body.\n",
    "\n",
    "4. You can also change the position in the Model window.\n",
    "\n",
    ">a. Change the vertices of body 1 by setting the vertex values equal to the values in the table below. Dips will adjust automatically.\n",
    "\n",
    ">b. Do not change the density contrast or susceptibility."
   ]
  },
  {
   "cell_type": "markdown",
   "metadata": {
    "id": "mSAQPZM4LeFY"
   },
   "source": [
    "| Vertex X (m)      | Vertex depth (m) |\n",
    "| ----------- ----| ----------- |\n",
    "| 45 |  10  |\n",
    "| 55 | 10        |\n",
    "| 55   | 20     |\n",
    "| 45    | 20      |"
   ]
  },
  {
   "cell_type": "markdown",
   "metadata": {
    "id": "pOonwTXsMGZI"
   },
   "source": [
    "### **Question 3:**\n",
    ">a. *Describe the shape of the curve at the top of the Cross section window.*\n"
   ]
  },
  {
   "cell_type": "markdown",
   "metadata": {
    "id": "4pj0q-s1MaS3"
   },
   "source": [
    "answer here"
   ]
  },
  {
   "cell_type": "markdown",
   "metadata": {
    "id": "vw901fjLMXto"
   },
   "source": [
    ">b. *Where is the peak of the curve relative to the rectangle?*"
   ]
  },
  {
   "cell_type": "markdown",
   "metadata": {
    "id": "h0EQu4qvMbYN"
   },
   "source": [
    "answer here"
   ]
  },
  {
   "cell_type": "markdown",
   "metadata": {
    "id": "02c1eNq3MH-3"
   },
   "source": [
    "### **Question 4:** \n",
    "\n",
    "Give your answers in mGal using the Data Table, not from estimation.\n",
    "\n",
    ">a. *What is the peak anomaly when the density contrast is 100 kg/m3?*\n",
    "\n"
   ]
  },
  {
   "cell_type": "markdown",
   "metadata": {
    "id": "1Emz-wIwMkWd"
   },
   "source": [
    "answer here"
   ]
  },
  {
   "cell_type": "markdown",
   "metadata": {
    "id": "n_Cqh3h9MliF"
   },
   "source": [
    ">b. *What is the peak anomaly when the density contrast is 200 kg/m3?*"
   ]
  },
  {
   "cell_type": "markdown",
   "metadata": {
    "id": "eznHiW9eMpSN"
   },
   "source": [
    "answer here"
   ]
  },
  {
   "cell_type": "markdown",
   "metadata": {
    "id": "SV2JsBxhMIPI"
   },
   "source": [
    "### **Question 5:**\n",
    "\n",
    ">a. *What happens to the curve if the density contrast is negative?*"
   ]
  },
  {
   "cell_type": "markdown",
   "metadata": {
    "id": "JV99dvLuM6CO"
   },
   "source": [
    "answer here"
   ]
  },
  {
   "cell_type": "markdown",
   "metadata": {
    "id": "Rnvka6YsM7Xu"
   },
   "source": [
    ">b. *If the density contrast is negative, is the body more or less dense than the surrounding host rock?*"
   ]
  },
  {
   "cell_type": "markdown",
   "metadata": {
    "id": "Izy0wciGOD_v"
   },
   "source": [
    "5. Note the location and magnitude of the peak anomaly in the Cross section window for the density contrast 200 kg/m3.\n",
    "\n",
    "6. In the **Model Table** window, change the density contrast for body 1 to 500 kg/m3. "
   ]
  },
  {
   "cell_type": "markdown",
   "metadata": {
    "id": "hcTbIakrOUgP"
   },
   "source": [
    "### **Question 6:** \n",
    "\n",
    ">Change the Vertex Depth (m) values, keeping the thickness of the body at a constant 10 m. *How deep does the top of the body have to be for the peak anomaly to be the same as it was when the density contrast was 200 kg/m3?*\n"
   ]
  },
  {
   "cell_type": "markdown",
   "metadata": {
    "id": "PAnK2Eq_OlF3"
   },
   "source": [
    "answer here"
   ]
  },
  {
   "cell_type": "markdown",
   "metadata": {
    "id": "rJL_Fn8EOWkv"
   },
   "source": [
    "### **Question 7:** \n",
    "\n",
    ">*How can you distinguish a shallow, dense body from a deeper, denser body?\n",
    "Supplement your explanation with a sketch.*"
   ]
  },
  {
   "cell_type": "markdown",
   "metadata": {
    "id": "u7xsSG98Srt2"
   },
   "source": [
    "answer here"
   ]
  },
  {
   "cell_type": "markdown",
   "metadata": {
    "id": "0VvxRHOWQIu2"
   },
   "source": [
    "7. In the **Model** window, change body 1:\n",
    "\n",
    ">a. Set the density constrast to 100 kg/m3.\n",
    "\n",
    ">b. Use the vertices shown below.\n",
    "\n",
    "\n",
    "| Vertex X (m)      | Vertex depth (m) |\n",
    "| ----------- ----| ----------- |\n",
    "| 30 |  20  |\n",
    "| 70 | 20        |\n",
    "| 70   | 30     |\n",
    "| 30    | 30      |"
   ]
  },
  {
   "cell_type": "markdown",
   "metadata": {
    "id": "d-WuQ9EDRrrm"
   },
   "source": [
    "### **Question 8:**\n",
    "\n",
    "> *Does this anomaly curve look different from the anomaly curve produced by the rectangle in question 4? How do the peak anomaly values compare?*"
   ]
  },
  {
   "cell_type": "markdown",
   "metadata": {
    "id": "H2z3hYqpStZ-"
   },
   "source": [
    "answer here"
   ]
  },
  {
   "cell_type": "markdown",
   "metadata": {
    "id": "zZ8yc-opSyKN"
   },
   "source": [
    "8. Based on your answer to question 6, you should have noticed that the results from gravity surveys are non-unique. Multiple subsurface configurations can produce very similar anomaly curves.\n",
    "\n",
    "9. Download the file GravityData.txt from Canvas and open it in GRAVMAG using the **File/Open** menu item.\n",
    ">a. When asked, agree to reset width of section data to data.\n",
    "\n",
    "10. Return to the Gravity Data window. Data will show up under the Observed column.\n",
    "\n",
    "11. Go to the Cross section window. The data is represented by light blue triangles, whereas the calculated gravity from your model is represented by dark blue stars."
   ]
  },
  {
   "cell_type": "markdown",
   "metadata": {
    "id": "NKdKSmRsTpRl"
   },
   "source": [
    "### **Question 9:** \n",
    "\n",
    "Create two different subsurface models to fit the observations (i.e., add bodies to the subsurface so that the calculated gravities fit the observations). You can use different density contrasts, shapes, and even add more than 1 body. There are infinite answers. For each of your subsurface models, include the following:\n",
    "\n",
    ">a. *Screenshot of the Model Table window.*"
   ]
  },
  {
   "cell_type": "markdown",
   "metadata": {
    "id": "eqzB5P7vT-41"
   },
   "source": [
    "insert here"
   ]
  },
  {
   "cell_type": "markdown",
   "metadata": {
    "id": "zg0s-lAyUAAl"
   },
   "source": [
    ">b. *Screenshot of the Cross section window demonstrating the agreement of your model with the observations.*"
   ]
  },
  {
   "cell_type": "markdown",
   "metadata": {
    "id": "YrGC7nIvUGFV"
   },
   "source": [
    "insert here"
   ]
  },
  {
   "cell_type": "markdown",
   "metadata": {
    "id": "nOqxWmMmUQ4d"
   },
   "source": [
    "12. When performing a gravity survey, it is important to have some previous knowledge of the subsurface. That way you can make more accurate interpretations of what could be down there."
   ]
  },
  {
   "cell_type": "markdown",
   "metadata": {
    "id": "cRNLlsJ1UZ3F"
   },
   "source": [
    "### **Question 10:** \n",
    "\n",
    "A company is looking to build a new housing development in northern Arizona. The shallow subsurface in the area is composed of limestone and there has consequently been a history of large sinkholes. The company hires you to perform a gravity survey to look for shallow, underground caverns. \n",
    "\n",
    "> *The subsurface configurations in the figure below produce\n",
    "similar gravity anomaly curves. Which is more geologically plausible? Justify your answer with two geologic reasons at minimum!*\n",
    "\n",
    "Note: The typical density of limestone is 2500-2800 km/m3."
   ]
  },
  {
   "cell_type": "markdown",
   "metadata": {
    "id": "4WfoLVEpVGud"
   },
   "source": [
    "![](Question10.png)"
   ]
  },
  {
   "cell_type": "markdown",
   "metadata": {
    "id": "UMdJO9gnVECV"
   },
   "source": [
    "answer here"
   ]
  },
  {
   "cell_type": "markdown",
   "metadata": {
    "id": "gwasHpbeVvV1"
   },
   "source": [
    "#### **Analyzing Seattle Fault Data**\n",
    "\n",
    "The Seattle Fault is an approximately east-west\n",
    "trending reverse fault that runs from Bainbridge Island,\n",
    "across the Puget Sound, through south Seattle, and all\n",
    "the way to Bellevue. This fault is capable of generating\n",
    "shallow earthquakes up to magnitude 7.0, which could\n",
    "be devastating for the Seattle region. The Seattle\n",
    "Basin, a deep depression filled with unconsolidated\n",
    "sediments, exists because of uplift on the Seattle fault.\n",
    "The Crescent Formation, composed of dense basalts,\n",
    "constitutes the hanging wall of the Seattle Fault and\n",
    "underlies the sedimentary rocks of the Seattle Basin.\n",
    "\n",
    "\n",
    "![](SeattleFault.png)\n",
    "**Figure 1.** Map of the Puget Sound area showing the\n",
    "inferred location of the Seattle Fault (black line) and locations where gravity measurements were taken (black dots). \n",
    "\n",
    "\n",
    "\n",
    "Today you are going to figure out the structure of the\n",
    "Seattle fault and basin using a gravity survey. The\n",
    "black dots on Figure 1 show places where gravity\n",
    "measurements were taken across the Seattle Fault.\n",
    "The results for a selection of those measurements can\n",
    "be found in SeattleFaultData.txt, which you can\n",
    "download from Canvas."
   ]
  },
  {
   "cell_type": "markdown",
   "metadata": {
    "id": "x8S-u8p8Wdel"
   },
   "source": [
    "![](PWave.png)\n",
    "\n",
    "**Figure 2:** P wave velocity model across the Seattle Fault, from ten Brink et al. 2002."
   ]
  },
  {
   "cell_type": "markdown",
   "metadata": {
    "id": "cI5FrmPkWvFM"
   },
   "source": [
    "### **Question 11:** \n",
    "\n",
    ">*Use the gravity data set to figure out:*\n",
    "\n",
    ">a. *the dip of the Seattle Fault*\n",
    "\n",
    ">b. *and the shape and depth of the Seattle Basin.*\n",
    "\n",
    ">>i. Change your units to km and kg/m3.\n",
    "\n",
    ">>ii. Supplement the gravity data with the P-wave data (perhaps use the latter as a starting point for creating the subsurface). You can see from the velocity model that the low velocity area, which is presumably the unconsolidated sediments of the Seattle basin, is irregularly shaped. \n",
    "Adding more vertices will help you recreate this shape.\n",
    "\n",
    ">>iii. Extend the horizontal boundaries of your model past the ends of the data line to avoid edge effects.\n",
    "\n",
    ">>iv. Remember that the values in your model are density contrasts, not absolute densities. You will need to convert to absolute densities for your submission. Assume that the background density is 2700 kg/m3."
   ]
  },
  {
   "cell_type": "markdown",
   "metadata": {
    "id": "IhLdu3PIXiR8"
   },
   "source": [
    "answer here"
   ]
  },
  {
   "cell_type": "markdown",
   "metadata": {
    "id": "ZyBIgpxnXkPc"
   },
   "source": [
    "*Your submission for this question should have the following:*\n",
    "\n",
    "> a. your calculation for the dip of the Seattle Fault – show your work. You can do this in numpy in Python or on a piece of paper and submit that as an image.\n",
    "Hint: Use the location of your vertices to calculate the dip angle\n",
    "\n",
    "\n",
    ">b. a well-labelled cross-section sketch of the Seattle Fault – be sure to include\n",
    "\n",
    ">>i. A depth scale\n",
    "\n",
    ">>ii. Absolute densities (NOT density contrasts)\n",
    "\n",
    ">>iii. Types of materials for each subsurface layer or body\n",
    "\n",
    ">>iv. Location and dip of the fault\n",
    "\n",
    ">>v. Depths should be to scale and angles should be correct\n",
    "\n",
    ">>vi. Don't just take a screenshot of the cross section generated by GRAVMAG, although that is a reasonable place to start."
   ]
  },
  {
   "cell_type": "code",
   "execution_count": null,
   "metadata": {
    "id": "UGeKedTkYPVZ"
   },
   "outputs": [],
   "source": []
  }
 ],
 "metadata": {
  "colab": {
   "authorship_tag": "ABX9TyNbOogAV0i0rN9Cv7stfhKx",
   "name": "Lab 6.ipynb",
   "provenance": []
  },
  "kernelspec": {
   "display_name": "Python 3 (ipykernel)",
   "language": "python",
   "name": "python3"
  },
  "language_info": {
   "codemirror_mode": {
    "name": "ipython",
    "version": 3
   },
   "file_extension": ".py",
   "mimetype": "text/x-python",
   "name": "python",
   "nbconvert_exporter": "python",
   "pygments_lexer": "ipython3",
   "version": "3.8.12"
  }
 },
 "nbformat": 4,
 "nbformat_minor": 1
}
